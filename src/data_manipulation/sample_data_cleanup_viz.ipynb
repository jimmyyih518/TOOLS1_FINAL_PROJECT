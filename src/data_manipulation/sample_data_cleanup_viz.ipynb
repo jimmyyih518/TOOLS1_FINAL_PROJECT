{
 "cells": [
  {
   "cell_type": "code",
   "execution_count": 16,
   "id": "c5f24159",
   "metadata": {},
   "outputs": [],
   "source": [
    "from src.data_manipulation.data_cleanup import clean_json\n",
    "\n",
    "df = clean_json('zillow_listing_data_CA_BC.json')"
   ]
  },
  {
   "cell_type": "code",
   "execution_count": 17,
   "id": "8a6728f5",
   "metadata": {
    "scrolled": true
   },
   "outputs": [
    {
     "name": "stdout",
     "output_type": "stream",
     "text": [
      "       price  bedrooms  bathrooms  has_garage  has_parking    sqft  \\\n",
      "0  1389000.0       5.0        3.0           0            0  2263.0   \n",
      "1  1029000.0       2.0        3.0           0            0  1200.0   \n",
      "2  1895000.0       4.0        4.0           0            0  2344.0   \n",
      "3   249900.0       2.0        2.0           0            0  1344.0   \n",
      "4  1150000.0       4.0        2.0           0            0  1172.0   \n",
      "\n",
      "               city state   latitude   longitude  price/sqft  \n",
      "0        Costa Mesa    CA  33.676414 -117.903885  613.787008  \n",
      "1  Huntington Beach    CA  33.664356 -118.010994  857.500000  \n",
      "2        Costa Mesa    CA  33.643840 -117.899660  808.447099  \n",
      "3        Costa Mesa    CA  33.646940 -117.936010  185.937500  \n",
      "4  Huntington Beach    CA  33.670025 -117.968680  981.228669  \n"
     ]
    }
   ],
   "source": [
    "print(df.head())"
   ]
  },
  {
   "cell_type": "markdown",
   "id": "0f79b50d",
   "metadata": {},
   "source": []
  },
  {
   "cell_type": "code",
   "execution_count": 15,
   "id": "ccc6ccdc",
   "metadata": {},
   "outputs": [],
   "source": [
    "import folium\n",
    "import pandas as pd\n",
    "\n",
    "df = pd.read_csv(\"zillow_data.csv\")\n",
    "\n",
    "clist = []\n",
    "for i in range(len(df.index)): \n",
    "    if df.iloc[i]['city'] is not None:\n",
    "        clist.append([\n",
    "            df.iloc[i]['price'],df.iloc[i]['latitude'], df.iloc[i]['longitude']\n",
    "            ]) \n",
    "map=folium.Map(location=[33,-117], zoom_start=6)\n",
    "\n",
    "for c in clist: \n",
    "    map.add_child(folium.Marker(location=(c[1],c[2]),popup=c[0],icon=folium.Icon(color='blue'))) \n",
    "map.save(\"zillow_data_map.html\") # Now point browser at that file         "
   ]
  },
  {
   "cell_type": "code",
   "execution_count": null,
   "id": "f9c69b79",
   "metadata": {},
   "outputs": [],
   "source": []
  }
 ],
 "metadata": {
  "kernelspec": {
   "display_name": "venv_C4447",
   "language": "python",
   "name": "venv_c4447"
  },
  "language_info": {
   "codemirror_mode": {
    "name": "ipython",
    "version": 3
   },
   "file_extension": ".py",
   "mimetype": "text/x-python",
   "name": "python",
   "nbconvert_exporter": "python",
   "pygments_lexer": "ipython3",
   "version": "3.10.8"
  }
 },
 "nbformat": 4,
 "nbformat_minor": 5
}

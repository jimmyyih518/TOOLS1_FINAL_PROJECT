{
 "cells": [
  {
   "cell_type": "markdown",
   "id": "fe677add",
   "metadata": {},
   "source": [
    "# Sample usage of ZillowScraper"
   ]
  },
  {
   "cell_type": "markdown",
   "id": "11ffdb95",
   "metadata": {},
   "source": [
    "### Version 1 Scraper"
   ]
  },
  {
   "cell_type": "code",
   "execution_count": 1,
   "id": "3a9b33f3",
   "metadata": {},
   "outputs": [],
   "source": [
    "# import our python scraper and initialize\n",
    "\n",
    "from src.webscraper.zillow_scraper import ZillowScraper\n",
    "scraper = ZillowScraper()"
   ]
  },
  {
   "cell_type": "code",
   "execution_count": 2,
   "id": "4667c39e",
   "metadata": {
    "scrolled": true
   },
   "outputs": [
    {
     "name": "stdout",
     "output_type": "stream",
     "text": [
      "https://www.zillow.com/Vancouver-bc/?searchQueryState=%7B%22pagination%22%3A%7B%7D%2C%22usersSearchTerm%22%3A%22Vancouver%2C%20BC%22%2C%22mapBounds%22%3A%7B%22west%22%3A-123.09948652478798%2C%22east%22%3A-122.69779890271766%2C%22south%22%3A49.157592000829325%2C%22north%22%3A49.34449321557116%7D%2C%22isMapVisible%22%3Atrue%2C%22filterState%22%3A%7B%22price%22%3A%7B%22min%22%3A0%2C%22max%22%3A10000000%7D%2C%22beds%22%3A%7B%22min%22%3A0%7D%2C%22baths%22%3A%7B%22min%22%3A0%7D%2C%22mp%22%3A%7B%22min%22%3A0%2C%22max%22%3A9642%7D%2C%22ah%22%3A%7B%22value%22%3Atrue%7D%2C%22sort%22%3A%7B%22value%22%3A%22days%22%7D%2C%22tow%22%3A%7B%22value%22%3Afalse%7D%2C%22con%22%3A%7B%22value%22%3Afalse%7D%2C%22land%22%3A%7B%22value%22%3Afalse%7D%2C%22apa%22%3A%7B%22value%22%3Afalse%7D%2C%22manu%22%3A%7B%22value%22%3Afalse%7D%2C%22apco%22%3A%7B%22value%22%3Afalse%7D%2C%22sqft%22%3A%7B%22min%22%3A0%7D%2C%22lot%22%3A%7B%22min%22%3A0%7D%7D%2C%22isListVisible%22%3Atrue%2C%22mapZoom%22%3A12%7D\n",
      "{'searchQueryState': ['{\"pagination\":{},\"usersSearchTerm\":\"Vancouver, BC\",\"mapBounds\":{\"west\":-123.09948652478798,\"east\":-122.69779890271766,\"south\":49.157592000829325,\"north\":49.34449321557116},\"isMapVisible\":true,\"filterState\":{\"price\":{\"min\":0,\"max\":10000000},\"beds\":{\"min\":0},\"baths\":{\"min\":0},\"mp\":{\"min\":0,\"max\":9642},\"ah\":{\"value\":true},\"sort\":{\"value\":\"days\"},\"tow\":{\"value\":false},\"con\":{\"value\":false},\"land\":{\"value\":false},\"apa\":{\"value\":false},\"manu\":{\"value\":false},\"apco\":{\"value\":false},\"sqft\":{\"min\":0},\"lot\":{\"min\":0}},\"isListVisible\":true,\"mapZoom\":12}']}\n",
      "<Response [200]>\n",
      "{'@type': 'SingleFamilyResidence', '@context': 'http://schema.org', 'name': '4431 Beatrice St, Vancouver, BC V5N 4J1', 'floorSize': {'@type': 'QuantitativeValue', '@context': 'http://schema.org', 'value': '2,073'}, 'address': {'@type': 'PostalAddress', '@context': 'http://schema.org', 'streetAddress': '4431 Beatrice St', 'addressLocality': 'Vancouver', 'addressRegion': 'BC', 'postalCode': 'V5N4J1'}, 'geo': {'@type': 'GeoCoordinates', '@context': 'http://schema.org', 'latitude': 49.245132, 'longitude': -123.066956}, 'url': 'https://www.zillow.com/homedetails/4431-Beatrice-St-Vancouver-BC-V5N-4J1/314393308_zpid/'}\n",
      "{'@type': 'SingleFamilyResidence', '@context': 'http://schema.org', 'name': '4963 Chester St, Vancouver, BC V5W 3A7', 'floorSize': {'@type': 'QuantitativeValue', '@context': 'http://schema.org', 'value': '2,381'}, 'address': {'@type': 'PostalAddress', '@context': 'http://schema.org', 'streetAddress': '4963 Chester St', 'addressLocality': 'Vancouver', 'addressRegion': 'BC', 'postalCode': 'V5W3A7'}, 'geo': {'@type': 'GeoCoordinates', '@context': 'http://schema.org', 'latitude': 49.239655, 'longitude': -123.0895}, 'url': 'https://www.zillow.com/homedetails/4963-Chester-St-Vancouver-BC-V5W-3A7/314377019_zpid/'}\n",
      "{'@type': 'SingleFamilyResidence', '@context': 'http://schema.org', 'name': '3595 Hull St, Vancouver, BC V5N 4R8', 'floorSize': {'@type': 'QuantitativeValue', '@context': 'http://schema.org', 'value': '2,500'}, 'address': {'@type': 'PostalAddress', '@context': 'http://schema.org', 'streetAddress': '3595 Hull St', 'addressLocality': 'Vancouver', 'addressRegion': 'BC', 'postalCode': 'V5N4R8'}, 'geo': {'@type': 'GeoCoordinates', '@context': 'http://schema.org', 'latitude': 49.25231, 'longitude': -123.06493}, 'url': 'https://www.zillow.com/homedetails/3595-Hull-St-Vancouver-BC-V5N-4R8/314366101_zpid/'}\n",
      "{'@type': 'SingleFamilyResidence', '@context': 'http://schema.org', 'name': '1229 E 14th Ave, Vancouver, BC V5T 2N5', 'floorSize': {'@type': 'QuantitativeValue', '@context': 'http://schema.org', 'value': '1,650'}, 'address': {'@type': 'PostalAddress', '@context': 'http://schema.org', 'streetAddress': '1229 E 14th Ave', 'addressLocality': 'Vancouver', 'addressRegion': 'BC', 'postalCode': 'V5T2N5'}, 'geo': {'@type': 'GeoCoordinates', '@context': 'http://schema.org', 'latitude': 49.258125, 'longitude': -123.08584}, 'url': 'https://www.zillow.com/homedetails/1229-E-14th-Ave-Vancouver-BC-V5T-2N5/2059991798_zpid/'}\n",
      "{'@type': 'SingleFamilyResidence', '@context': 'http://schema.org', 'name': '1227 E 14th Ave, Vancouver, BC V5T 2P2', 'floorSize': {'@type': 'QuantitativeValue', '@context': 'http://schema.org', 'value': '1,680'}, 'address': {'@type': 'PostalAddress', '@context': 'http://schema.org', 'streetAddress': '1227 E 14th Ave', 'addressLocality': 'Vancouver', 'addressRegion': 'BC', 'postalCode': 'V5T2P2'}, 'geo': {'@type': 'GeoCoordinates', '@context': 'http://schema.org', 'latitude': 49.258095, 'longitude': -123.079025}, 'url': 'https://www.zillow.com/homedetails/1227-E-14th-Ave-Vancouver-BC-V5T-2P2/314364925_zpid/'}\n",
      "{'@type': 'SingleFamilyResidence', '@context': 'http://schema.org', 'name': '3813 Maxwell St, Vancouver, BC V5N 3Y6', 'floorSize': {'@type': 'QuantitativeValue', '@context': 'http://schema.org', 'value': '2,611'}, 'address': {'@type': 'PostalAddress', '@context': 'http://schema.org', 'streetAddress': '3813 Maxwell St', 'addressLocality': 'Vancouver', 'addressRegion': 'BC', 'postalCode': 'V5N3Y6'}, 'geo': {'@type': 'GeoCoordinates', '@context': 'http://schema.org', 'latitude': 49.250916, 'longitude': -123.07068}, 'url': 'https://www.zillow.com/homedetails/3813-Maxwell-St-Vancouver-BC-V5N-3Y6/314372332_zpid/'}\n",
      "{'@type': 'SingleFamilyResidence', '@context': 'http://schema.org', 'name': '927 E 63rd Ave, Vancouver, BC V5X 2K9', 'floorSize': {'@type': 'QuantitativeValue', '@context': 'http://schema.org', 'value': '1,779'}, 'address': {'@type': 'PostalAddress', '@context': 'http://schema.org', 'streetAddress': '927 E 63rd Ave', 'addressLocality': 'Vancouver', 'addressRegion': 'BC', 'postalCode': 'V5X2K9'}, 'geo': {'@type': 'GeoCoordinates', '@context': 'http://schema.org', 'latitude': 49.21319, 'longitude': -123.08662}, 'url': 'https://www.zillow.com/homedetails/927-E-63rd-Ave-Vancouver-BC-V5X-2K9/314388437_zpid/'}\n",
      "{'@type': 'SingleFamilyResidence', '@context': 'http://schema.org', 'name': '345 E 64th Ave, Vancouver, BC V5X 2M8', 'floorSize': {'@type': 'QuantitativeValue', '@context': 'http://schema.org', 'value': '2,344'}, 'address': {'@type': 'PostalAddress', '@context': 'http://schema.org', 'streetAddress': '345 E 64th Ave', 'addressLocality': 'Vancouver', 'addressRegion': 'BC', 'postalCode': 'V5X2M8'}, 'geo': {'@type': 'GeoCoordinates', '@context': 'http://schema.org', 'latitude': 49.21286, 'longitude': -123.09919}, 'url': 'https://www.zillow.com/homedetails/345-E-64th-Ave-Vancouver-BC-V5X-2M8/314388701_zpid/'}\n",
      "{'@type': 'SingleFamilyResidence', '@context': 'http://schema.org', 'name': '880 Georgia St E, Vancouver, BC V6A 2A5', 'floorSize': {'@type': 'QuantitativeValue', '@context': 'http://schema.org', 'value': '5,600'}, 'address': {'@type': 'PostalAddress', '@context': 'http://schema.org', 'streetAddress': '880 Georgia St E', 'addressLocality': 'Vancouver', 'addressRegion': 'BC', 'postalCode': 'V6A2A5'}, 'geo': {'@type': 'GeoCoordinates', '@context': 'http://schema.org', 'latitude': 49.27804, 'longitude': -123.08545}, 'url': 'https://www.zillow.com/homedetails/880-Georgia-St-E-Vancouver-BC-V6A-2A5/2059999779_zpid/'}\n"
     ]
    }
   ],
   "source": [
    "# Scrape data from the city of Vancouver in BC, Canada\n",
    "# We set the max price to 10 million, withno requirements for other housing related features\n",
    "\n",
    "scraped_data = scraper.scrape(city='Vancouver',\n",
    "                       max_price=10000000,\n",
    "                       min_beds=0,\n",
    "                       min_baths=0,\n",
    "                       min_homesize=0,\n",
    "                       min_lotsize=0\n",
    "                       )"
   ]
  },
  {
   "cell_type": "code",
   "execution_count": 3,
   "id": "022f4643",
   "metadata": {},
   "outputs": [
    {
     "data": {
      "text/plain": [
       "{'@type': 'SingleFamilyResidence',\n",
       " '@context': 'http://schema.org',\n",
       " 'name': '4431 Beatrice St, Vancouver, BC V5N 4J1',\n",
       " 'floorSize': {'@type': 'QuantitativeValue',\n",
       "  '@context': 'http://schema.org',\n",
       "  'value': '2,073'},\n",
       " 'address': {'@type': 'PostalAddress',\n",
       "  '@context': 'http://schema.org',\n",
       "  'streetAddress': '4431 Beatrice St',\n",
       "  'addressLocality': 'Vancouver',\n",
       "  'addressRegion': 'BC',\n",
       "  'postalCode': 'V5N4J1'},\n",
       " 'geo': {'@type': 'GeoCoordinates',\n",
       "  '@context': 'http://schema.org',\n",
       "  'latitude': 49.245132,\n",
       "  'longitude': -123.066956},\n",
       " 'url': 'https://www.zillow.com/homedetails/4431-Beatrice-St-Vancouver-BC-V5N-4J1/314393308_zpid/',\n",
       " 'scraped_data': {'summary': 'C$1,500,0003 bd2 ba2,073 sqft4431 Beatrice St,\\xa0Vancouver, BC V5N 4J1For saleDollar SignGet pre-qualified...',\n",
       "  'details': \"TypeSingle family residenceYear BuiltBuilt in 1962HeatingForced air, natural gasCoolingNo dataParking1 Covered parking spaceLot3,920 sqftPrice/sqftC$724 price/sqftOverviewAmple storage spaceDetached garageOff-street parkingFunctional kitchenClose to schoolsThis 3 bedroom, 2 bathroom house for sale in Vancouver is not just a property, it's a home. It's where memories were made, laughter was shared and love was nurtured. The house features a traditional layout with a large living room that has seen countless family gatherings, a functional kitchen where many delicious meals were cooked, and a dining area where cherished family dinners were held. The bedrooms are well-sized and the 2 bathrooms are conveniently located to serve all rooms, providing a comfortable home for all. Additional features include ample storage space, a fenced backyard that has been a sanctuary for children to play and grow, detached garage,  and off-street parking. The house is located in a desirable neighborhood, close to schools, shops, and public transportation.Show more1 dayon Zillow|72views|1save|Travel timesCarFacts and featuresInterior detailsBedrooms and bathroomsBedrooms: 3Bathrooms: 2Full bathrooms: 11/2 bathrooms: 1BasementBasement: Full,Partially FinishedHeatingHeating features: Forced Air, Natural GasOther interior featuresTotal structure area: 2,073Total interior livable area: 2,073 sqftFinished area above ground: 1,073Total number of fireplaces: 1Virtual tour: View virtual tourProperty detailsParkingTotal spaces: 1Parking features: GarageGarage spaces: 1Covered spaces: 1PropertyLevels: Two,2 Storey w/Bsmt.Stories: 2Frontage length: 32.96LotLot size: 3,920 sqftLot size dimensions: 32.96 x 121.81Other property informationParcel number: 09200019246770170000Construction detailsType and styleHome type: SingleFamilyProperty subType: Single Family ResidenceConditionYear built: 1962Community and Neighborhood DetailsLocationRegion: VancouverOtherOther factsOwnership: Freehold NonStrataSee more facts and featuresServices availability\"}}"
      ]
     },
     "execution_count": 3,
     "metadata": {},
     "output_type": "execute_result"
    }
   ],
   "source": [
    "# We can look at the first listing result\n",
    "# under the \"details\" section is the raw scraped data that will need to be cleaned for analysis purposes\n",
    "\n",
    "scraped_data['query_result'][0]"
   ]
  },
  {
   "cell_type": "markdown",
   "id": "bd2d2265",
   "metadata": {},
   "source": [
    "### Version 2 Scraper"
   ]
  },
  {
   "cell_type": "code",
   "execution_count": 1,
   "id": "818008bd",
   "metadata": {},
   "outputs": [],
   "source": [
    "# Version 1 has a bug related to not being able to pass through paginations\n",
    "# Therefore version 2 uses an alternative approach to scrape the data via httpx\n",
    "# the returned data in version 2 is also a lot simpler and cleaner to work with\n",
    "\n",
    "from src.webscraper.zillow_scraper_v2 import ZillowScraper\n",
    "scraper = ZillowScraper()"
   ]
  },
  {
   "cell_type": "code",
   "execution_count": 2,
   "id": "c540d834",
   "metadata": {},
   "outputs": [],
   "source": [
    "# scrape the data using default filtering params\n",
    "# default params set the boundary to all houses in Vancouver, BC, Canada\n",
    "\n",
    "data=scraper.scrape_listings()"
   ]
  },
  {
   "cell_type": "code",
   "execution_count": 3,
   "id": "9b9d15ab",
   "metadata": {},
   "outputs": [
    {
     "name": "stdout",
     "output_type": "stream",
     "text": [
      "total listings found: 500\n"
     ]
    },
    {
     "data": {
      "text/plain": [
       "{'zpid': '314393308',\n",
       " 'price': 'C$1,500,000',\n",
       " 'priceLabel': 'C$1.50M',\n",
       " 'beds': 3,\n",
       " 'baths': 2.0,\n",
       " 'area': 2073,\n",
       " 'latLong': {'latitude': 49.245132, 'longitude': -123.066956},\n",
       " 'statusType': 'FOR_SALE',\n",
       " 'statusText': 'House for sale',\n",
       " 'isFavorite': False,\n",
       " 'isUserClaimingOwner': False,\n",
       " 'isUserConfirmedClaim': False,\n",
       " 'imgSrc': 'https://photos.zillowstatic.com/fp/7b71f7c467f74ff8922cc639819e8553-p_e.jpg',\n",
       " 'hasImage': True,\n",
       " 'visited': False,\n",
       " 'listingType': '',\n",
       " 'variableData': None,\n",
       " 'hdpData': {'homeInfo': {'zpid': 314393308,\n",
       "   'zipcode': 'V5N4J1',\n",
       "   'city': 'Vancouver',\n",
       "   'state': 'BC',\n",
       "   'latitude': 49.245132,\n",
       "   'longitude': -123.066956,\n",
       "   'price': 1500000.0,\n",
       "   'bathrooms': 2.0,\n",
       "   'bedrooms': 3.0,\n",
       "   'livingArea': 2073.0,\n",
       "   'homeType': 'SINGLE_FAMILY',\n",
       "   'homeStatus': 'FOR_SALE',\n",
       "   'daysOnZillow': -1,\n",
       "   'isFeatured': False,\n",
       "   'shouldHighlight': False,\n",
       "   'listing_sub_type': {'is_FSBA': True},\n",
       "   'isUnmappable': False,\n",
       "   'isPreforeclosureAuction': False,\n",
       "   'homeStatusForHDP': 'FOR_SALE',\n",
       "   'priceForHDP': 1500000.0,\n",
       "   'isNonOwnerOccupied': True,\n",
       "   'isPremierBuilder': False,\n",
       "   'isZillowOwned': False,\n",
       "   'currency': 'USD',\n",
       "   'country': 'USA',\n",
       "   'taxAssessedValue': 1350800.0,\n",
       "   'lotAreaValue': 3920.4,\n",
       "   'lotAreaUnit': 'sqft'}},\n",
       " 'shouldShowZestimateAsPrice': False,\n",
       " 'detailUrl': '/homedetails/4431-Beatrice-St-Vancouver-BC-V5N-4J1/314393308_zpid/',\n",
       " 'pgapt': 'ForSale',\n",
       " 'sgapt': 'For Sale (Broker)',\n",
       " 'has3DModel': False,\n",
       " 'hasVideo': False,\n",
       " 'isHomeRec': False,\n",
       " 'address': '--',\n",
       " 'hasAdditionalAttributions': False,\n",
       " 'isFeaturedListing': False,\n",
       " 'availabilityDate': None}"
      ]
     },
     "execution_count": 3,
     "metadata": {},
     "output_type": "execute_result"
    }
   ],
   "source": [
    "# a total of 500 listings returned as that's the maximum\n",
    "\n",
    "print(f'total listings found: {len(data)}')\n",
    "\n",
    "# Visualize the data from one of the listings\n",
    "\n",
    "data[0]"
   ]
  },
  {
   "cell_type": "code",
   "execution_count": null,
   "id": "31763ae0",
   "metadata": {},
   "outputs": [],
   "source": []
  }
 ],
 "metadata": {
  "kernelspec": {
   "display_name": "Python 3 (ipykernel)",
   "language": "python",
   "name": "python3"
  },
  "language_info": {
   "codemirror_mode": {
    "name": "ipython",
    "version": 3
   },
   "file_extension": ".py",
   "mimetype": "text/x-python",
   "name": "python",
   "nbconvert_exporter": "python",
   "pygments_lexer": "ipython3",
   "version": "3.9.13"
  }
 },
 "nbformat": 4,
 "nbformat_minor": 5
}
